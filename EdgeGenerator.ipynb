{
 "cells": [
  {
   "cell_type": "code",
   "execution_count": 8,
   "metadata": {
    "collapsed": true
   },
   "outputs": [],
   "source": [
    "import matplotlib.pyplot as plt"
   ]
  },
  {
   "cell_type": "code",
   "execution_count": 415,
   "metadata": {
    "collapsed": true
   },
   "outputs": [],
   "source": [
    "import scipy"
   ]
  },
  {
   "cell_type": "code",
   "execution_count": 9,
   "metadata": {
    "collapsed": false
   },
   "outputs": [],
   "source": [
    "%matplotlib inline"
   ]
  },
  {
   "cell_type": "code",
   "execution_count": 10,
   "metadata": {
    "collapsed": true
   },
   "outputs": [],
   "source": [
    "import cv2"
   ]
  },
  {
   "cell_type": "code",
   "execution_count": 11,
   "metadata": {
    "collapsed": true
   },
   "outputs": [],
   "source": [
    "import numpy as np"
   ]
  },
  {
   "cell_type": "code",
   "execution_count": 60,
   "metadata": {
    "collapsed": true
   },
   "outputs": [],
   "source": [
    "from scipy.stats import norm"
   ]
  },
  {
   "cell_type": "code",
   "execution_count": 177,
   "metadata": {
    "collapsed": false
   },
   "outputs": [],
   "source": [
    "MIN_LINE_WIDTH = 1\n",
    "MAX_LINE_WIDTH = 10"
   ]
  },
  {
   "cell_type": "code",
   "execution_count": 178,
   "metadata": {
    "collapsed": true
   },
   "outputs": [],
   "source": [
    "MIN_LINE_LENGTH = 10\n",
    "LINE_LENGTH_MEAN = 256\n",
    "LINE_LENGTH_DEV = 256"
   ]
  },
  {
   "cell_type": "code",
   "execution_count": 187,
   "metadata": {
    "collapsed": true
   },
   "outputs": [],
   "source": [
    "COORDINATE_DEV = 128"
   ]
  },
  {
   "cell_type": "code",
   "execution_count": 394,
   "metadata": {
    "collapsed": true
   },
   "outputs": [],
   "source": [
    "MIN_ELLIPSE_SIZE = 30\n",
    "ELLIPSE_SIZE_MEAN = 128\n",
    "ELLIPSE_SIZE_DEV = 128"
   ]
  },
  {
   "cell_type": "code",
   "execution_count": 179,
   "metadata": {
    "collapsed": true
   },
   "outputs": [],
   "source": [
    "def RandomLineWidth():\n",
    "    return max(MIN_LINE_WIDTH, np.random.rand() * MAX_LINE_WIDTH)"
   ]
  },
  {
   "cell_type": "code",
   "execution_count": 180,
   "metadata": {
    "collapsed": true
   },
   "outputs": [],
   "source": [
    "def RandomLineLength():\n",
    "    return max(MIN_LINE_LENGTH, np.random.normal(LINE_LENGTH_MEAN, LINE_LENGTH_DEV, 1)[0])"
   ]
  },
  {
   "cell_type": "code",
   "execution_count": 183,
   "metadata": {
    "collapsed": true
   },
   "outputs": [],
   "source": [
    "def RandomLineAngle():\n",
    "    return np.random.rand() * np.pi * 2"
   ]
  },
  {
   "cell_type": "code",
   "execution_count": 397,
   "metadata": {
    "collapsed": true
   },
   "outputs": [],
   "source": [
    "def RandomEllipseSize():\n",
    "    return max(MIN_ELLIPSE_SIZE, np.random.normal(ELLIPSE_SIZE_MEAN, ELLIPSE_SIZE_DEV, 1)[0])"
   ]
  },
  {
   "cell_type": "code",
   "execution_count": 190,
   "metadata": {
    "collapsed": true
   },
   "outputs": [],
   "source": [
    "def RandomCoordinate():\n",
    "    return np.random.normal(256, COORDINATE_DEV, 2)"
   ]
  },
  {
   "cell_type": "code",
   "execution_count": 243,
   "metadata": {
    "collapsed": true
   },
   "outputs": [],
   "source": [
    "def RandomColor():\n",
    "    return tuple(np.random.rand(3) * 255)"
   ]
  },
  {
   "cell_type": "code",
   "execution_count": 246,
   "metadata": {
    "collapsed": true
   },
   "outputs": [],
   "source": [
    "def DrawRandomLine(img):\n",
    "    width = RandomLineWidth()\n",
    "    length = RandomLength()\n",
    "    angle = RandomLineAngle()\n",
    "    x = np.cos(angle) * length\n",
    "    y = np.sin(angle) * length\n",
    "    start_x, start_y = RandomCoordinate()\n",
    "    return cv2.line(img, (int(start_x), int(start_y)), (int(start_x + x), int(start_y + y)), RandomColor(), int(width))"
   ]
  },
  {
   "cell_type": "code",
   "execution_count": 399,
   "metadata": {
    "collapsed": true
   },
   "outputs": [],
   "source": [
    "def DrawRandomEllipse(img):\n",
    "    x_length = int(RandomEllipseSize())\n",
    "    y_length = int(RandomEllipseSize())\n",
    "    x, y = RandomCoordinate()\n",
    "    x = int(x)\n",
    "    y = int(y)\n",
    "    return cv2.ellipse(img,(x,y),(x_length,y_length), int(np.random.rand() * 360), 0, 360, RandomColor(),-1)"
   ]
  },
  {
   "cell_type": "code",
   "execution_count": 400,
   "metadata": {
    "collapsed": true
   },
   "outputs": [],
   "source": [
    "img = np.zeros((512,512,3), np.uint8)\n",
    "img[:,:,0] = int(np.random.rand() * 255)\n",
    "img[:,:,1] = int(np.random.rand() * 255)\n",
    "img[:,:,2] = int(np.random.rand() * 255)"
   ]
  },
  {
   "cell_type": "code",
   "execution_count": 420,
   "metadata": {
    "collapsed": true
   },
   "outputs": [],
   "source": [
    "NUM_GENERATED_IMG = 1000\n",
    "NUM_LINES_DRAWN = 10\n",
    "NUM_ELLIPSES_DRAWN = 5"
   ]
  },
  {
   "cell_type": "code",
   "execution_count": 427,
   "metadata": {
    "collapsed": false
   },
   "outputs": [],
   "source": [
    "for i in range(NUM_GENERATED_IMG):\n",
    "    img = np.zeros((512,512,3), np.uint8)\n",
    "    img[:,:,0] = int(np.random.rand() * 255)\n",
    "    img[:,:,1] = int(np.random.rand() * 255)\n",
    "    img[:,:,2] = int(np.random.rand() * 255)\n",
    "    for c in range(NUM_ELLIPSES_DRAWN):\n",
    "        img = DrawRandomEllipse(img)\n",
    "    for c in range(NUM_LINES_DRAWN):\n",
    "        img = DrawRandomLine(img)\n",
    "    scipy.misc.imsave('generated' + str(i) + '.png', img)\n",
    "    img_small = scipy.misc.imresize(img, 0.25, interp='bicubic')\n",
    "    scipy.misc.imsave('generated_small' + str(i) + '.png', img_small)"
   ]
  }
 ],
 "metadata": {
  "kernelspec": {
   "display_name": "Python 3",
   "language": "python",
   "name": "python3"
  },
  "language_info": {
   "codemirror_mode": {
    "name": "ipython",
    "version": 3
   },
   "file_extension": ".py",
   "mimetype": "text/x-python",
   "name": "python",
   "nbconvert_exporter": "python",
   "pygments_lexer": "ipython3",
   "version": "3.6.0"
  }
 },
 "nbformat": 4,
 "nbformat_minor": 2
}
